{
 "cells": [
  {
   "cell_type": "code",
   "execution_count": 5,
   "id": "bb270482",
   "metadata": {},
   "outputs": [],
   "source": [
    "import hashlib\n",
    "import getpass"
   ]
  },
  {
   "cell_type": "code",
   "execution_count": 6,
   "id": "48cdca5c",
   "metadata": {},
   "outputs": [],
   "source": [
    "password_manager = {}\n",
    "\n",
    "def create_account():\n",
    "    username = input(\"Enter your expected username: \")\n",
    "    password = getpass.getpass(\"Enter password to set: \")\n",
    "    hashed_password = hashlib.sha512(password.encode()).hexdigest()\n",
    "    password_manager[username] = hashed_password\n",
    "    print(\"Account created sucessfully\")\n",
    "    \n",
    "def login():\n",
    "    username = input(\"Enter the username: \")\n",
    "    password = getpass.getpass(\"Enter the password: \")\n",
    "    hashed_password = hashlib.sha512(password.encode()).hexdigest()\n",
    "    if username in password_manager.keys() and password_manager[username] == hashed_password:\n",
    "        print(\"Login successfull!!\")\n",
    "    else:\n",
    "        print(\"Invalid credentials\")"
   ]
  },
  {
   "cell_type": "code",
   "execution_count": 7,
   "id": "3b283089",
   "metadata": {},
   "outputs": [
    {
     "name": "stdout",
     "output_type": "stream",
     "text": [
      "Enter 1 to create account, 2 to login, and 0 to exit: 1\n",
      "Enter your expected username: parth\n",
      "Enter password to set: ········\n",
      "Account created sucessfully\n",
      "Enter 1 to create account, 2 to login, and 0 to exit: 2\n",
      "Enter the username: Parth\n",
      "Enter the password: ········\n",
      "Invalid credentials\n",
      "Enter 1 to create account, 2 to login, and 0 to exit: 2\n",
      "Enter the username: parth\n",
      "Enter the password: ········\n",
      "Login successfull!!\n",
      "Enter 1 to create account, 2 to login, and 0 to exit: 0\n"
     ]
    }
   ],
   "source": [
    "if __name__ == \"__main__\":\n",
    "    while True:\n",
    "        choice = input(\"Enter 1 to create account, 2 to login, and 0 to exit: \")\n",
    "        if choice == '1':\n",
    "            create_account()\n",
    "        elif choice == '2':\n",
    "            login()\n",
    "        elif choice == \"0\":\n",
    "            break\n",
    "        else:\n",
    "            print(\"Invalid choice\")"
   ]
  },
  {
   "cell_type": "code",
   "execution_count": 8,
   "id": "2304ddf7",
   "metadata": {},
   "outputs": [
    {
     "data": {
      "text/plain": [
       "{'parth': 'cb0a0a55a42c50e57816bc91a4104ee49b6f80a8ddbf7a1e40fc485a7428a8910b89c1aaf1850f24a4315a25bed04c0e9133a94677e6542db4a4aa2dbb657e75'}"
      ]
     },
     "execution_count": 8,
     "metadata": {},
     "output_type": "execute_result"
    }
   ],
   "source": [
    "password_manager"
   ]
  }
 ],
 "metadata": {
  "kernelspec": {
   "display_name": "Python 3 (ipykernel)",
   "language": "python",
   "name": "python3"
  },
  "language_info": {
   "codemirror_mode": {
    "name": "ipython",
    "version": 3
   },
   "file_extension": ".py",
   "mimetype": "text/x-python",
   "name": "python",
   "nbconvert_exporter": "python",
   "pygments_lexer": "ipython3",
   "version": "3.10.4"
  }
 },
 "nbformat": 4,
 "nbformat_minor": 5
}
